{
 "cells": [
  {
   "cell_type": "markdown",
   "id": "eb24223e-eae9-40ec-9a2b-cd988c60f3e7",
   "metadata": {},
   "source": [
    "<h1>Opertor Aritmatika</h1>"
   ]
  },
  {
   "cell_type": "code",
   "execution_count": 30,
   "id": "61be1d8a-4e30-40db-871b-4dd764709349",
   "metadata": {},
   "outputs": [
    {
     "name": "stdin",
     "output_type": "stream",
     "text": [
      "Masukan Jumlah Apel 12\n",
      "Masukan Jumlah Teman 8\n"
     ]
    },
    {
     "name": "stdout",
     "output_type": "stream",
     "text": [
      "Apel Yang Diterima Teman Budi 12 // 8 = 1\n"
     ]
    },
    {
     "name": "stdin",
     "output_type": "stream",
     "text": [
      "Tambahkan Apel 3\n"
     ]
    },
    {
     "name": "stdout",
     "output_type": "stream",
     "text": [
      "Jumlah Apel yang dimiliki Budi Setelah dibagikan 1 + 3 = 4\n"
     ]
    }
   ],
   "source": [
    "apel_budi  = int(input(\"Masukan Jumlah Apel\"))\n",
    "teman = int(input(\"Masukan Jumlah Teman\"))\n",
    "pembagian = apel_budi // teman\n",
    "print(\"Apel Yang Diterima Teman Budi\",apel_budi,\"//\",teman,\"=\",pembagian)\n",
    "\n",
    "tambahApel = int(input(\"Tambahkan Apel\"))\n",
    "hasilTambah = pembagian + tambahApel\n",
    "print(\"Jumlah Apel yang dimiliki Budi Setelah dibagikan\",pembagian,\"+\",tambahApel,\"=\",hasilTambah)"
   ]
  },
  {
   "cell_type": "markdown",
   "id": "3a1d42c5-e92d-40f7-b731-7cb3dbc6fdaa",
   "metadata": {},
   "source": [
    "<h1>Operator Perbandingan</h1>"
   ]
  },
  {
   "cell_type": "code",
   "execution_count": null,
   "id": "370b343c-665a-46ef-8aaf-4bd6e3b0b460",
   "metadata": {},
   "outputs": [],
   "source": [
    "tbSiti = 160\n",
    "tbAndi = 165\n",
    "if tbSiti > tbAndi:\n",
    "    print(\"Siti Lebih Tinggi dari Andi\")\n",
    "elif tbSiti < tbAndi:\n",
    "    print(\"Andi Lebih Tinggi dari Siti\")\n",
    "else:\n",
    "    print(\"Siti dan Andi Memiliki Tinggi Badan yang Sama\")"
   ]
  },
  {
   "cell_type": "markdown",
   "id": "6759bc9d-5d19-40cd-97f5-73fe656dfd39",
   "metadata": {},
   "source": [
    "<h1>Operator Logika<h1>"
   ]
  },
  {
   "cell_type": "code",
   "execution_count": 12,
   "id": "2cb7b2b8-9640-4ea0-bacd-eea97aeecec2",
   "metadata": {},
   "outputs": [
    {
     "name": "stdin",
     "output_type": "stream",
     "text": [
      "Apakah Cuaca nya Cerah? (Ya/Tidak) : Ya\n",
      "Apakah Budi Sudah Menyelesaikan PR nya? (Ya/Tidak) : Tidak\n"
     ]
    },
    {
     "name": "stdout",
     "output_type": "stream",
     "text": [
      "Budi Bisa Bermain Keluar\n"
     ]
    }
   ],
   "source": [
    "a = str(input(\"Apakah Cuaca nya Cerah? (Ya/Tidak) :\"))\n",
    "b = str(input(\"Apakah Budi Sudah Menyelesaikan PR nya? (Ya/Tidak) :\")) \n",
    "c = a and b\n",
    "if c:\n",
    "    print(\"Budi Bisa Bermain Keluar\")\n",
    "else:\n",
    "    print(\"Budi Tidak Bisa Bermain Keluar\")"
   ]
  },
  {
   "cell_type": "markdown",
   "id": "97ede729-0677-45f6-a67d-c3876317ae5c",
   "metadata": {},
   "source": [
    "<h1>Operator Bitwise</h1>"
   ]
  },
  {
   "cell_type": "code",
   "execution_count": 17,
   "id": "ae0e1601-5c08-436c-91a1-55e03d306e3e",
   "metadata": {},
   "outputs": [
    {
     "name": "stdin",
     "output_type": "stream",
     "text": [
      "Isikan Angka 1 : 5\n",
      "Isikan Angka 2 : 8\n"
     ]
    },
    {
     "name": "stdout",
     "output_type": "stream",
     "text": [
      "0b101\n",
      "0b1000\n",
      "---------&\n",
      "0b0\n",
      "Hasil Desimal AND Adalah : 0\n",
      "0b101\n",
      "0b1000\n",
      "---------|\n",
      "0b1101\n",
      "Hasil Desimal OR Adalah : 13\n",
      "0b101\n",
      "0b1000\n",
      "---------^\n",
      "0b1101\n",
      "Hasil Desimal XOR Adalah : 13\n"
     ]
    }
   ],
   "source": [
    "bil1 = int(input(\"Isikan Angka 1 :\"))\n",
    "bil2 = int(input(\"Isikan Angka 2 :\"))\n",
    "\n",
    "#Bitwise AND(&)\n",
    "bitwiseAnd = bil1 & bil2\n",
    "print(bin(bil1))\n",
    "print(bin(bil2))\n",
    "print(\"---------&\")\n",
    "print(bin(bitwiseAnd))\n",
    "print(\"Hasil Desimal AND Adalah :\",bitwiseAnd)\n",
    "\n",
    "#Bitwise OR(|)\n",
    "bitwiseOr = bil1 | bil2\n",
    "print(bin(bil1))\n",
    "print(bin(bil2))\n",
    "print(\"---------|\")\n",
    "print(bin(bitwiseOr))\n",
    "print(\"Hasil Desimal OR Adalah :\",bitwiseOr)\n",
    "\n",
    "#Bitwise XOR(^)\n",
    "bitwiseXor = bil1 ^ bil2\n",
    "print(bin(bil1))\n",
    "print(bin(bil2))\n",
    "print(\"---------^\")\n",
    "print(bin(bitwiseXor))\n",
    "print(\"Hasil Desimal XOR Adalah :\",bitwiseXor)\n"
   ]
  },
  {
   "cell_type": "markdown",
   "id": "3de07f4a-bf60-4139-ac3b-4ad70fd4ee85",
   "metadata": {},
   "source": [
    "<h1>Opertor Penugasan</h1>"
   ]
  },
  {
   "cell_type": "code",
   "execution_count": 19,
   "id": "f69473c8-b1e5-4f8d-968d-dc03adfd338e",
   "metadata": {},
   "outputs": [
    {
     "name": "stdin",
     "output_type": "stream",
     "text": [
      "Isikan Saldo 33333\n"
     ]
    },
    {
     "name": "stdout",
     "output_type": "stream",
     "text": [
      "Saldo Awal Dari : 33333\n",
      "Saldo Setelah Ditambah : 53333\n",
      "Saldo Setelah Dibelikan Paket : 23333\n",
      "Sisa Saldo Adalah : 23333\n"
     ]
    }
   ],
   "source": [
    "nilai = int(input(\"Isikan Saldo\"))\n",
    "print(\"Saldo Awal Dari :\",nilai)\n",
    "nilai += 20000\n",
    "print(\"Saldo Setelah Ditambah :\",nilai)\n",
    "nilai -= 30000\n",
    "print(\"Saldo Setelah Dibelikan Paket :\",nilai)\n",
    "print(\"Sisa Saldo Adalah :\",nilai)"
   ]
  },
  {
   "cell_type": "markdown",
   "id": "66bc740a-8372-40ed-bd98-4c385f8733d3",
   "metadata": {},
   "source": [
    "<h1>Operator Keanggotaan</h1>"
   ]
  },
  {
   "cell_type": "code",
   "execution_count": 21,
   "id": "0d96b4d7-c6ad-42ea-91c3-93072c6e0f45",
   "metadata": {},
   "outputs": [
    {
     "name": "stdin",
     "output_type": "stream",
     "text": [
      "Isikan Nama yang Dicari : Dika\n"
     ]
    },
    {
     "name": "stdout",
     "output_type": "stream",
     "text": [
      "Apakah Nama Tersebut Terdaftar Sebagai Peserta? False\n"
     ]
    },
    {
     "name": "stdin",
     "output_type": "stream",
     "text": [
      "Isikan Kata Yang Dicari : Kalimat\n"
     ]
    },
    {
     "name": "stdout",
     "output_type": "stream",
     "text": [
      "Apakah Kata Phyton ada Dalam Kalimat? False\n"
     ]
    }
   ],
   "source": [
    "nama = input(\"Isikan Nama yang Dicari :\")\n",
    "listNama = [\"Andi\",\"Budi\",\"Citra\",\"Dewi\"]\n",
    "print(\"Apakah Nama Tersebut Terdaftar Sebagai Peserta?\", nama in listNama)\n",
    "\n",
    "kata = input(\"Isikan Kata Yang Dicari :\")\n",
    "kalimat = \"Saya Suka Belajar Phyton\"\n",
    "print(\"Apakah Kata Phyton ada Dalam Kalimat?\",kata in kalimat)"
   ]
  },
  {
   "cell_type": "markdown",
   "id": "18378739-4d35-42e6-83ab-33b8e2989442",
   "metadata": {},
   "source": [
    "<h1>Operator Identitas</h1>"
   ]
  },
  {
   "cell_type": "code",
   "execution_count": 26,
   "id": "58f7f821-9b05-4b73-ad57-cb56b9cedb93",
   "metadata": {},
   "outputs": [
    {
     "name": "stdout",
     "output_type": "stream",
     "text": [
      "Memori Address Dari x 140727769705176\n",
      "Memori Address Dari y 140727769705176\n",
      "Apakah x adalah y True\n",
      "Memori Address Dari a 3153692013312\n",
      "Memori Address Dari b 3153692086464\n",
      "Apakah x adalah y False\n"
     ]
    }
   ],
   "source": [
    "x = 10\n",
    "y = 10\n",
    "\n",
    "print('Memori Address Dari x',id(x))\n",
    "print('Memori Address Dari y',id(y))\n",
    "print('Apakah x adalah y',x is y)\n",
    "\n",
    "a = [4,7,8]\n",
    "b = [4,7,8]\n",
    "print('Memori Address Dari a',id(a))\n",
    "print('Memori Address Dari b',id(b))\n",
    "print('Apakah x adalah y',a is b)\n"
   ]
  },
  {
   "cell_type": "markdown",
   "id": "8089fdf0-9faa-4866-807d-44485e6e0233",
   "metadata": {},
   "source": [
    "<h1>Operator Ternary</h1>"
   ]
  },
  {
   "cell_type": "code",
   "execution_count": 32,
   "id": "9d6d6a5a-33af-42b3-8957-1953e5c042b2",
   "metadata": {},
   "outputs": [
    {
     "name": "stdin",
     "output_type": "stream",
     "text": [
      "Isikan Angka : 333\n"
     ]
    },
    {
     "name": "stdout",
     "output_type": "stream",
     "text": [
      "Lebih Besar Dari 100\n"
     ]
    },
    {
     "name": "stdin",
     "output_type": "stream",
     "text": [
      "Isikan Nilai 80\n"
     ]
    },
    {
     "name": "stdout",
     "output_type": "stream",
     "text": [
      "LULUS\n"
     ]
    }
   ],
   "source": [
    "number = int(input(\"Isikan Angka :\"))\n",
    "AngkaLebihBesar = \"Lebih Besar Dari 100\" if number > 100 else \"lebih Kecil Dari 100\"\n",
    "print(AngkaLebihBesar)\n",
    "\n",
    "nilai = int(input(\"Isikan Nilai\"))\n",
    "nilaiLulus = \"LULUS\" if nilai > 70 else \"TIDAK LULUS\" \n",
    "print(nilaiLulus)"
   ]
  },
  {
   "cell_type": "code",
   "execution_count": null,
   "id": "073357fa-0b7f-4ccd-9af3-0b7da9f13588",
   "metadata": {},
   "outputs": [],
   "source": []
  }
 ],
 "metadata": {
  "kernelspec": {
   "display_name": "Python 3 (ipykernel)",
   "language": "python",
   "name": "python3"
  },
  "language_info": {
   "codemirror_mode": {
    "name": "ipython",
    "version": 3
   },
   "file_extension": ".py",
   "mimetype": "text/x-python",
   "name": "python",
   "nbconvert_exporter": "python",
   "pygments_lexer": "ipython3",
   "version": "3.12.7"
  }
 },
 "nbformat": 4,
 "nbformat_minor": 5
}
